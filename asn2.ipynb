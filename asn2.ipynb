{
 "cells": [
  {
   "cell_type": "code",
   "execution_count": 20,
   "id": "91eda243",
   "metadata": {},
   "outputs": [
    {
     "name": "stdout",
     "output_type": "stream",
     "text": [
      "35\n",
      "a case sensitive \n",
      "Python is a case sensitive language\n",
      "10\n",
      "Python_is_a_case_sensitive_language\n"
     ]
    }
   ],
   "source": [
    "a=\"Python is a case sensitive language\"\n",
    "print(len(a))\n",
    "def myfxn(n):\n",
    "  return n[::-1]\n",
    "  result=myfxn(a)\n",
    "  print(result)\n",
    "\n",
    "b=a[10:27]\n",
    "print(b)  \n",
    "x=a.replace(\"a case senisitive\",\"object oriented\")\n",
    "print(x)\n",
    "\n",
    "y=a.index(\"a\")\n",
    "print(y)\n",
    "\n",
    "z=a.replace(\" \",\"_\")\n",
    "print(z)"
   ]
  },
  {
   "cell_type": "code",
   "execution_count": 21,
   "id": "744cdd5f",
   "metadata": {},
   "outputs": [
    {
     "name": "stdout",
     "output_type": "stream",
     "text": [
      "Enter Your Name: Divyam\n",
      "Enter Your Department: EE\n",
      "Enter Your SID: 21104089\n",
      "Enter Your CGPA: 8\n",
      "Hey, Divyam Here!\n",
      "My SID is 21104089\n",
      "I am from EE department and my CGPA is 8.0\n"
     ]
    }
   ],
   "source": [
    "a=input(\"Enter Your Name: \")\n",
    "b=input(\"Enter Your Department: \")\n",
    "c=int(input(\"Enter Your SID: \"))\n",
    "d=float(input(\"Enter Your CGPA: \"))\n",
    "print(\"Hey\"+\", \"+str(a)+\" Here!\")\n",
    "print(\"My SID is \"+str(c))\n",
    "print(\"I am from \"+str(b)+\" department and my CGPA is \"+str(d))"
   ]
  },
  {
   "cell_type": "code",
   "execution_count": 22,
   "id": "4a4a2ed6",
   "metadata": {},
   "outputs": [
    {
     "name": "stdout",
     "output_type": "stream",
     "text": [
      "8\n",
      "58\n",
      "50\n",
      "32\n",
      "0\n"
     ]
    }
   ],
   "source": [
    "a=56\n",
    "b=10\n",
    "print(a&b)\n",
    "print(a|b)\n",
    "print(a^b)\n",
    "c=a<<2\n",
    "d=b<<2\n",
    "print(c&d)\n",
    "e=a>>2\n",
    "f=b>>4\n",
    "print(e&f)"
   ]
  },
  {
   "cell_type": "code",
   "execution_count": 23,
   "id": "ecd9ba40",
   "metadata": {},
   "outputs": [
    {
     "name": "stdout",
     "output_type": "stream",
     "text": [
      "Enter 1st no: 2\n",
      "Enter 2nd no: 5\n",
      "Enter 3rd no: 8\n",
      "8\n"
     ]
    }
   ],
   "source": [
    "a=int(input(\"Enter 1st no: \"))\n",
    "b=int(input(\"Enter 2nd no: \"))\n",
    "c=int(input(\"Enter 3rd no: \"))\n",
    "d=max((a,b,c))\n",
    "print(d)\n"
   ]
  },
  {
   "cell_type": "code",
   "execution_count": 25,
   "id": "0598acba",
   "metadata": {},
   "outputs": [
    {
     "name": "stdout",
     "output_type": "stream",
     "text": [
      "Enter Any String: the name Of my dog is tommy.\n",
      "YES\n"
     ]
    }
   ],
   "source": [
    "a=input('Enter Any String: ')\n",
    "b=\"name\"\n",
    "if a.count(b)>0:\n",
    "  print(\"YES\")\n",
    "\n",
    "else:\n",
    "  print(\"NO\")"
   ]
  },
  {
   "cell_type": "code",
   "execution_count": 26,
   "id": "47213869",
   "metadata": {},
   "outputs": [
    {
     "name": "stdout",
     "output_type": "stream",
     "text": [
      "Enter length of shortest side: 3\n",
      "Enter length of side 2: 4\n",
      "Enter length of longer side: 5\n",
      "YES\n"
     ]
    }
   ],
   "source": [
    "a=int(input(\"Enter length of shortest side: \"))\n",
    "b=int(input(\"Enter length of side 2: \"))\n",
    "c=int(input(\"Enter length of longer side: \"))\n",
    "if (a+b<c):\n",
    "  print(\"NO\")\n",
    "else:\n",
    "  print(\"YES\")  "
   ]
  },
  {
   "cell_type": "code",
   "execution_count": null,
   "id": "e402651b",
   "metadata": {},
   "outputs": [],
   "source": []
  }
 ],
 "metadata": {
  "kernelspec": {
   "display_name": "Python 3 (ipykernel)",
   "language": "python",
   "name": "python3"
  },
  "language_info": {
   "codemirror_mode": {
    "name": "ipython",
    "version": 3
   },
   "file_extension": ".py",
   "mimetype": "text/x-python",
   "name": "python",
   "nbconvert_exporter": "python",
   "pygments_lexer": "ipython3",
   "version": "3.9.7"
  }
 },
 "nbformat": 4,
 "nbformat_minor": 5
}
