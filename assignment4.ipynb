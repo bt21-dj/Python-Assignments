{
 "cells": [
  {
   "cell_type": "code",
   "execution_count": 7,
   "id": "96e84f48",
   "metadata": {},
   "outputs": [
    {
     "name": "stdout",
     "output_type": "stream",
     "text": [
      "Enter value of n: 5\n",
      "Move disk 1 from source A to destination B\n",
      "Move disk 2 from source A to destination C\n",
      "Move disk 1 from source B to destination C\n",
      "Move disk 3 from source A to destination B\n",
      "Move disk 1 from source C to destination A\n",
      "Move disk 2 from source C to destination B\n",
      "Move disk 1 from source A to destination B\n",
      "Move disk 4 from source A to destination C\n",
      "Move disk 1 from source B to destination C\n",
      "Move disk 2 from source B to destination A\n",
      "Move disk 1 from source C to destination A\n",
      "Move disk 3 from source B to destination C\n",
      "Move disk 1 from source A to destination B\n",
      "Move disk 2 from source A to destination C\n",
      "Move disk 1 from source B to destination C\n",
      "Move disk 5 from source A to destination B\n",
      "Move disk 1 from source C to destination A\n",
      "Move disk 2 from source C to destination B\n",
      "Move disk 1 from source A to destination B\n",
      "Move disk 3 from source C to destination A\n",
      "Move disk 1 from source B to destination C\n",
      "Move disk 2 from source B to destination A\n",
      "Move disk 1 from source C to destination A\n",
      "Move disk 4 from source C to destination B\n",
      "Move disk 1 from source A to destination B\n",
      "Move disk 2 from source A to destination C\n",
      "Move disk 1 from source B to destination C\n",
      "Move disk 3 from source A to destination B\n",
      "Move disk 1 from source C to destination A\n",
      "Move disk 2 from source C to destination B\n",
      "Move disk 1 from source A to destination B\n"
     ]
    }
   ],
   "source": [
    "def Tower(n,source,destination,auxiliary):\n",
    "  if n==1:\n",
    "    print(\"Move disk 1 from source\",source,\"to destination\",destination)\n",
    "    return \n",
    "  Tower(n-1,source,auxiliary,destination)\n",
    "  print(\"Move disk\",n,\"from source\",source,\"to destination\",destination)\n",
    "  Tower(n-1,auxiliary,destination,source)\n",
    "\n",
    "n=int(input(\"Enter value of n: \"))\n",
    "Tower(n,'A','B','C')  "
   ]
  },
  {
   "cell_type": "code",
   "execution_count": 46,
   "id": "e6fe34e2",
   "metadata": {},
   "outputs": [
    {
     "name": "stdout",
     "output_type": "stream",
     "text": [
      "Enter number of rows: 3\n",
      "      1    1  1  1  2  1\n"
     ]
    }
   ],
   "source": [
    "#Pascal's Triangle in recursive form\n",
    "def fact(n):\n",
    "  res=1\n",
    "  for c in range(1,n+1):\n",
    "    res=res*c\n",
    "  return res\n",
    "rows=int(input(\"Enter number of rows: \")) \n",
    "for i in range(0,rows):\n",
    "  for j in range(1,rows-i):\n",
    "    print(\" \",end=\" \")\n",
    "  for k in range(0,i+1):\n",
    "    coff=int(fact(i)/(fact(k)*fact(i-k)))\n",
    "    print(\" \",coff,end=\"\")\n",
    "print()        \n"
   ]
  },
  {
   "cell_type": "code",
   "execution_count": 16,
   "id": "1733aa4c",
   "metadata": {},
   "outputs": [
    {
     "name": "stdout",
     "output_type": "stream",
     "text": [
      "The student's is Divyam and Roll number is 21104089\n"
     ]
    }
   ],
   "source": [
    "class Student:\n",
    "  def getdetails(self,name,rollnumber):\n",
    "    print(f\"The student's is {self.name} and Roll number is {self.rollnumber}\")\n",
    "    @staticmethod\n",
    "    def __init__():\n",
    "      print(\"Details are as follows\")\n",
    "      \n",
    "Divyam=Student()\n",
    "Divyam.name=\"Divyam\"\n",
    "Divyam.rollnumber=21104089\n",
    "Divyam.getdetails(\"name\",\"rollnumber\")"
   ]
  },
  {
   "cell_type": "code",
   "execution_count": 23,
   "id": "a9cc95d3",
   "metadata": {},
   "outputs": [
    {
     "name": "stdout",
     "output_type": "stream",
     "text": [
      "Enter a: 3\n",
      "Enter b: 5\n",
      "0\n",
      "3\n"
     ]
    }
   ],
   "source": [
    "def function(a,b):\n",
    "  print(a//b)\n",
    "  print(a%b)\n",
    "\n",
    "a=int(input(\"Enter a: \"))\n",
    "b=int(input(\"Enter b: \"))  \n",
    "\n",
    "function(a,b)\n",
    "#The function is callable\n"
   ]
  },
  {
   "cell_type": "code",
   "execution_count": 25,
   "id": "680176c1",
   "metadata": {},
   "outputs": [
    {
     "name": "stdout",
     "output_type": "stream",
     "text": [
      "Enter a: 5\n",
      "Enter b: 2\n",
      "Quotient is  2  and remainder is  1\n"
     ]
    }
   ],
   "source": [
    "#B.) Part\n",
    "def function(a,b):\n",
    "  if b==0:\n",
    "    print(\"ERROR\")\n",
    "\n",
    "  \n",
    "  else:\n",
    "    print(\"Quotient is \",a//b,\" and remainder is \",a%b)\n",
    "   \n",
    "\n",
    "a=int(input(\"Enter a: \"))\n",
    "b=int(input(\"Enter b: \"))      \n",
    "f=function(a,b)\n"
   ]
  },
  {
   "cell_type": "code",
   "execution_count": 30,
   "id": "14b95481",
   "metadata": {},
   "outputs": [
    {
     "name": "stdout",
     "output_type": "stream",
     "text": [
      "Enter a: 33\n",
      "Enter b: 56\n"
     ]
    }
   ],
   "source": [
    "#C.) Part\n",
    "def function(a,b):\n",
    "  x=a%b+4\n",
    "  y=a//b+4\n",
    "  z=a%b+5\n",
    "  w=a//b+5\n",
    "  t=a%b+6\n",
    "  e=a//b+6\n",
    "  if (x,y)<(4,4):\n",
    "    print(\"Separate values \",(x,y))\n",
    "  if (z,w)<(4,4):\n",
    "    print(\"Separate values \",(z,w))\n",
    "  if (w,t)<(4,4):\n",
    "    print(\"Separate value \",(w,t))    \n",
    "\n",
    "\n",
    "a=int(input(\"Enter a: \"))\n",
    "b=int(input(\"Enter b: \"))\n",
    "\n",
    "function(a,b)\n",
    "\n",
    "\n"
   ]
  },
  {
   "cell_type": "code",
   "execution_count": 33,
   "id": "902b9308",
   "metadata": {},
   "outputs": [
    {
     "name": "stdout",
     "output_type": "stream",
     "text": [
      "Enter a: 33\n",
      "Enter b: 55\n",
      "{0, 33}\n"
     ]
    }
   ],
   "source": [
    "#D.) Part\n",
    "def function(a,b):\n",
    "  return {a//b,a%b}\n",
    "\n",
    "a=int(input(\"Enter a: \"))\n",
    "b=int(input(\"Enter b: \"))\n",
    "f=function(a,b)\n",
    "print(f)"
   ]
  },
  {
   "cell_type": "code",
   "execution_count": 43,
   "id": "cca0fe94",
   "metadata": {},
   "outputs": [
    {
     "name": "stdout",
     "output_type": "stream",
     "text": [
      "Enter a: 5\n",
      "Enter b: 1\n",
      "Maximum value is  5  and Hash value is  5\n"
     ]
    }
   ],
   "source": [
    "#F.) Part\n",
    "def function(a,b):\n",
    "  return {a//b,a%b}\n",
    "\n",
    "a=int(input(\"Enter a: \"))\n",
    "b=int(input(\"Enter b: \"))\n",
    "f=function(a,b)\n",
    "g=max(f)\n",
    "h=hash(g)\n",
    "print(\"Maximum value is \",g,\" and Hash value is \",h)"
   ]
  },
  {
   "cell_type": "code",
   "execution_count": 44,
   "id": "c5c5f2f3",
   "metadata": {},
   "outputs": [
    {
     "name": "stdout",
     "output_type": "stream",
     "text": [
      "Enter a: 2\n",
      "Enter b: 2\n",
      "frozenset({0, 1})\n"
     ]
    }
   ],
   "source": [
    "#E.) Part\n",
    "def function(a,b):\n",
    "  return {a//b,a%b}\n",
    "\n",
    "a=int(input(\"Enter a: \"))\n",
    "b=int(input(\"Enter b: \"))\n",
    "f=function(a,b)\n",
    "g=frozenset(f)\n",
    "print(g)"
   ]
  },
  {
   "cell_type": "code",
   "execution_count": 37,
   "id": "28ebd971",
   "metadata": {},
   "outputs": [
    {
     "name": "stdout",
     "output_type": "stream",
     "text": [
      "Name of the employee is Mehak and Salary is 40000\n",
      "Name of the employee is Ashok and Salary is 50000\n",
      "Name of the employee is Viren and Salary is 60000\n"
     ]
    }
   ],
   "source": [
    "class Employee:\n",
    "  def getdetails(self,name,salary):\n",
    "    print(f\"Name of the employee is {self.name} and Salary is {self.salary}\")\n",
    "\n",
    "name1=Employee()\n",
    "name2=Employee()\n",
    "name3=Employee()\n",
    "name1.name=\"Mehak\"\n",
    "name1.salary=40000\n",
    "name2.name='Ashok'\n",
    "name2.salary=50000\n",
    "name3.name='Viren'\n",
    "name3.salary=60000 \n",
    "\n",
    "name1.getdetails(\"name\",\"salary\")\n",
    "name2.getdetails(\"name\",\"salary\")\n",
    "name3.getdetails(\"name\",\"salary\")"
   ]
  },
  {
   "cell_type": "code",
   "execution_count": null,
   "id": "f551fe54",
   "metadata": {},
   "outputs": [],
   "source": []
  },
  {
   "cell_type": "code",
   "execution_count": 38,
   "id": "509843ce",
   "metadata": {},
   "outputs": [
    {
     "name": "stdout",
     "output_type": "stream",
     "text": [
      "Name of the employee is Mehak and Salary is 70000\n",
      "Name of the employee is Ashok and Salary is 50000\n",
      "Name of the employee is Viren and Salary is 60000\n"
     ]
    }
   ],
   "source": [
    "#Updating Class Variables\n",
    "class Employee:\n",
    "  def getdetails(self,name,salary):\n",
    "    print(f\"Name of the employee is {self.name} and Salary is {self.salary}\")\n",
    "\n",
    "  def update(self,name,salary):\n",
    "    name1.salary=70000\n",
    "    print(f\"Name of the employee is {self.name} and Salary is {self.salary}\")  \n",
    "\n",
    "name1=Employee()\n",
    "name2=Employee()\n",
    "name3=Employee()\n",
    "    \n",
    "\n",
    "name1.name='Mehak'\n",
    "name1.salary=40000 \n",
    "name2.name='Ashok'\n",
    "name2.salary=50000\n",
    "name3.name='Viren'\n",
    "name3.salary=60000\n",
    "\n",
    "\n",
    "\n",
    "name1.update('name','salary')\n",
    "name2.getdetails('name','salary')\n",
    "name3.getdetails('name','salary')\n"
   ]
  },
  {
   "cell_type": "code",
   "execution_count": 39,
   "id": "9c92da5b",
   "metadata": {},
   "outputs": [
    {
     "name": "stdout",
     "output_type": "stream",
     "text": [
      "Name of the employee is  Mehak  and Salary is  70000\n",
      "Name of the employee is  Ashok  and Salary is  50000\n"
     ]
    },
    {
     "ename": "AttributeError",
     "evalue": "'Employee' object has no attribute 'name'",
     "output_type": "error",
     "traceback": [
      "\u001b[1;31m---------------------------------------------------------------------------\u001b[0m",
      "\u001b[1;31mAttributeError\u001b[0m                            Traceback (most recent call last)",
      "\u001b[1;32m~\\AppData\\Local\\Temp/ipykernel_30152/1231211777.py\u001b[0m in \u001b[0;36m<module>\u001b[1;34m\u001b[0m\n\u001b[0;32m     27\u001b[0m \u001b[0mname1\u001b[0m\u001b[1;33m.\u001b[0m\u001b[0mgetdetails\u001b[0m\u001b[1;33m(\u001b[0m\u001b[1;34m'name'\u001b[0m\u001b[1;33m,\u001b[0m\u001b[1;34m'salary'\u001b[0m\u001b[1;33m)\u001b[0m\u001b[1;33m\u001b[0m\u001b[1;33m\u001b[0m\u001b[0m\n\u001b[0;32m     28\u001b[0m \u001b[0mname2\u001b[0m\u001b[1;33m.\u001b[0m\u001b[0mgetdetails\u001b[0m\u001b[1;33m(\u001b[0m\u001b[1;34m'name'\u001b[0m\u001b[1;33m,\u001b[0m\u001b[1;34m'salary'\u001b[0m\u001b[1;33m)\u001b[0m\u001b[1;33m\u001b[0m\u001b[1;33m\u001b[0m\u001b[0m\n\u001b[1;32m---> 29\u001b[1;33m \u001b[0mname3\u001b[0m\u001b[1;33m.\u001b[0m\u001b[0mgetdetails\u001b[0m\u001b[1;33m(\u001b[0m\u001b[1;34m'name'\u001b[0m\u001b[1;33m,\u001b[0m\u001b[1;34m'salary'\u001b[0m\u001b[1;33m)\u001b[0m\u001b[1;33m\u001b[0m\u001b[1;33m\u001b[0m\u001b[0m\n\u001b[0m",
      "\u001b[1;32m~\\AppData\\Local\\Temp/ipykernel_30152/1231211777.py\u001b[0m in \u001b[0;36mgetdetails\u001b[1;34m(self, name, salary)\u001b[0m\n\u001b[0;32m      2\u001b[0m   \u001b[1;32mdef\u001b[0m \u001b[0mgetdetails\u001b[0m\u001b[1;33m(\u001b[0m\u001b[0mself\u001b[0m\u001b[1;33m,\u001b[0m\u001b[0mname\u001b[0m\u001b[1;33m,\u001b[0m\u001b[0msalary\u001b[0m\u001b[1;33m)\u001b[0m\u001b[1;33m:\u001b[0m\u001b[1;33m\u001b[0m\u001b[1;33m\u001b[0m\u001b[0m\n\u001b[0;32m      3\u001b[0m \u001b[1;33m\u001b[0m\u001b[0m\n\u001b[1;32m----> 4\u001b[1;33m       \u001b[0mprint\u001b[0m\u001b[1;33m(\u001b[0m\u001b[1;34m\"Name of the employee is \"\u001b[0m\u001b[1;33m,\u001b[0m\u001b[0mself\u001b[0m\u001b[1;33m.\u001b[0m\u001b[0mname\u001b[0m\u001b[1;33m,\u001b[0m\u001b[1;34m\" and Salary is \"\u001b[0m\u001b[1;33m,\u001b[0m\u001b[0mself\u001b[0m\u001b[1;33m.\u001b[0m\u001b[0msalary\u001b[0m\u001b[1;33m)\u001b[0m\u001b[1;33m\u001b[0m\u001b[1;33m\u001b[0m\u001b[0m\n\u001b[0m\u001b[0;32m      5\u001b[0m \u001b[1;33m\u001b[0m\u001b[0m\n\u001b[0;32m      6\u001b[0m \u001b[1;33m\u001b[0m\u001b[0m\n",
      "\u001b[1;31mAttributeError\u001b[0m: 'Employee' object has no attribute 'name'"
     ]
    }
   ],
   "source": [
    "class Employee:\n",
    "  def getdetails(self,name,salary):\n",
    " \n",
    "      print(\"Name of the employee is \",self.name,\" and Salary is \",self.salary)  \n",
    "    \n",
    "\n",
    "\n",
    "\n",
    "  \n",
    "\n",
    "\n",
    "    \n",
    "\n",
    "\n",
    "name1=Employee()\n",
    "name2=Employee()\n",
    "name3=Employee()\n",
    "name1.name='Mehak'\n",
    "name2.name='Ashok'\n",
    "name3.name='Viren'\n",
    "name1.salary=70000\n",
    "name2.salary=50000\n",
    "name3.salary=60000\n",
    "\n",
    "del name3.name\n",
    "del name3.salary\n",
    "name1.getdetails('name','salary')\n",
    "name2.getdetails('name','salary')\n",
    "name3.getdetails('name','salary')\n"
   ]
  },
  {
   "cell_type": "code",
   "execution_count": 45,
   "id": "a389b8a1",
   "metadata": {},
   "outputs": [
    {
     "name": "stdout",
     "output_type": "stream",
     "text": [
      "Enter a: 55\n",
      "Enter b: 56\n",
      "Separated values are as follows-\n",
      "59\n",
      "5\n",
      "60\n",
      "6\n",
      "61\n"
     ]
    }
   ],
   "source": [
    "#C.) Part\n",
    "def function(a,b):\n",
    "  if a//b+4>4:\n",
    "    print(a//b+4)\n",
    "  if a%b+4>4:\n",
    "    print(a%b+4)\n",
    "  if a//b+5>4:\n",
    "    print(a//b+5)\n",
    "  if a%b+5>4:\n",
    "    print(a%b+5)\n",
    "  if a//b+6>4:\n",
    "    print(a//b+6)\n",
    "  if a%b+6>4:\n",
    "    print(a%b+6)     \n",
    "  else:\n",
    "    print(\"Quotient is \",a//b,\" and remainder is \",a%b) \n",
    "\n",
    "def intro():\n",
    "  print(\"Separated values are as follows-\")\n",
    "\n",
    "      \n",
    "\n",
    "a=int(input(\"Enter a: \"))\n",
    "b=int(input(\"Enter b: \"))\n",
    "intro()\n",
    "\n",
    "function(a,b)\n",
    "\n",
    "\n"
   ]
  },
  {
   "cell_type": "code",
   "execution_count": 48,
   "id": "f075940b",
   "metadata": {},
   "outputs": [
    {
     "name": "stdout",
     "output_type": "stream",
     "text": [
      "George's Turn: 5\n",
      "Barbie's Turn: 5\n",
      "Friendship of Barbie and George is Fake!!!\n"
     ]
    }
   ],
   "source": [
    "def Friendship_Test(a,b):\n",
    "  if a==b:\n",
    "    print(\"Friendship of Barbie and George is Fake!!!\")\n",
    "\n",
    "  else:\n",
    "    print(\"Friendship of Barbie and George is True\")\n",
    "\n",
    "a=input(\"George's Turn: \")\n",
    "b=input(\"Barbie's Turn: \")\n",
    "Friendship_Test(a,b)      \n",
    "\n"
   ]
  },
  {
   "cell_type": "code",
   "execution_count": null,
   "id": "f20e5620",
   "metadata": {},
   "outputs": [],
   "source": []
  }
 ],
 "metadata": {
  "kernelspec": {
   "display_name": "Python 3 (ipykernel)",
   "language": "python",
   "name": "python3"
  },
  "language_info": {
   "codemirror_mode": {
    "name": "ipython",
    "version": 3
   },
   "file_extension": ".py",
   "mimetype": "text/x-python",
   "name": "python",
   "nbconvert_exporter": "python",
   "pygments_lexer": "ipython3",
   "version": "3.9.7"
  }
 },
 "nbformat": 4,
 "nbformat_minor": 5
}
