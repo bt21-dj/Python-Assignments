{
 "cells": [
  {
   "cell_type": "code",
   "execution_count": 15,
   "id": "357b111b",
   "metadata": {},
   "outputs": [
    {
     "name": "stdout",
     "output_type": "stream",
     "text": [
      "Enter Number 1 : 20\n",
      "Enter Number 2 : 30\n",
      "Enter Number 3 : 50\n",
      "The average of (a,b,c) is  66.66666666666667\n"
     ]
    }
   ],
   "source": [
    "a=int(input(\"Enter Number 1 : \"))\n",
    "b=int(input(\"Enter Number 2 : \"))\n",
    "c=int(input(\"Enter Number 3 : \"))\n",
    "d=a+b+c/3\n",
    "print(\"The average of (a,b,c) is \",d)"
   ]
  },
  {
   "cell_type": "code",
   "execution_count": 18,
   "id": "85e97280",
   "metadata": {},
   "outputs": [
    {
     "name": "stdout",
     "output_type": "stream",
     "text": [
      "Enter Your Name: raman\n",
      "Enter Your SID: 1101\n",
      "Enter Your Gender: M\n",
      "Enter Course Name: Python\n",
      "Enter Your CGPA: 7\n",
      "[1101, 'raman', 'M', 'Python', 7.0]\n"
     ]
    }
   ],
   "source": [
    "a=input(\"Enter Your Name: \")\n",
    "b=int(input(\"Enter Your SID: \"))\n",
    "c=input(\"Enter Your Gender: \")\n",
    "d=input(\"Enter Course Name: \")\n",
    "e=float(input(\"Enter Your CGPA: \"))\n",
    "Students=[b,a,c,d,e]\n",
    "print(Students)"
   ]
  },
  {
   "cell_type": "code",
   "execution_count": 13,
   "id": "bb7e31d0",
   "metadata": {},
   "outputs": [
    {
     "name": "stdout",
     "output_type": "stream",
     "text": [
      "Enter no of dependents: 2\n",
      "Enter Annual Income: 65000\n",
      "9800.0\n"
     ]
    }
   ],
   "source": [
    "n=int(input(\"Enter no of dependents: \"))\n",
    "gross_income=int(input(\"Enter Annual Income: \"))\n",
    "tax_rate=.20  \n",
    "\n",
    "standard_deduction=10000\n",
    "dependent_deduction=3000\n",
    "taxable_income=gross_income-standard_deduction-(dependent_deduction*n)\n",
    "Tax=taxable_income*tax_rate\n",
    "print(Tax)"
   ]
  },
  {
   "cell_type": "code",
   "execution_count": 12,
   "id": "a0e25a75",
   "metadata": {},
   "outputs": [
    {
     "name": "stdout",
     "output_type": "stream",
     "text": [
      "Enter marks of Student no 1- 56\n",
      "Enter marks of Student no 2- 99\n",
      "Enter marks of Student no 3- 33\n",
      "Enter marks of Student no 4- 87\n",
      "Enter marks of Student no 5- 84\n",
      "[56, 99, 33, 87, 84]\n"
     ]
    }
   ],
   "source": [
    "a=int(input(\"Enter marks of Student no 1- \"))\n",
    "b=int(input(\"Enter marks of Student no 2- \"))\n",
    "c=int(input(\"Enter marks of Student no 3- \"))\n",
    "d=int(input(\"Enter marks of Student no 4- \"))\n",
    "e=int(input(\"Enter marks of Student no 5- \"))\n",
    "list=[a,b,c,d,e]\n",
    "print(list)"
   ]
  },
  {
   "cell_type": "code",
   "execution_count": 14,
   "id": "b171067b",
   "metadata": {},
   "outputs": [
    {
     "name": "stdout",
     "output_type": "stream",
     "text": [
      "['Red', 'Green', 'White', 'Pink', 'Yellow']\n"
     ]
    }
   ],
   "source": [
    "color=['Red','Green','White','Black','Pink','Yellow']\n",
    "#a.) Part\n",
    "color.remove('Black')\n",
    "print(color)"
   ]
  },
  {
   "cell_type": "code",
   "execution_count": 19,
   "id": "bace59c9",
   "metadata": {},
   "outputs": [
    {
     "name": "stdout",
     "output_type": "stream",
     "text": [
      "['Red', 'Green', 'White', 'Purple', 'Yellow']\n"
     ]
    }
   ],
   "source": [
    "color=['Red','Green','White','Black','Pink','Yellow']\n",
    "#b.) Part\n",
    "color[3]='Purple'\n",
    "color.remove(\"Pink\")\n",
    "print(color)"
   ]
  },
  {
   "cell_type": "code",
   "execution_count": null,
   "id": "f705c728",
   "metadata": {},
   "outputs": [],
   "source": []
  }
 ],
 "metadata": {
  "kernelspec": {
   "display_name": "Python 3 (ipykernel)",
   "language": "python",
   "name": "python3"
  },
  "language_info": {
   "codemirror_mode": {
    "name": "ipython",
    "version": 3
   },
   "file_extension": ".py",
   "mimetype": "text/x-python",
   "name": "python",
   "nbconvert_exporter": "python",
   "pygments_lexer": "ipython3",
   "version": "3.9.7"
  }
 },
 "nbformat": 4,
 "nbformat_minor": 5
}
