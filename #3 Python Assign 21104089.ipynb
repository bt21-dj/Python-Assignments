{
 "cells": [
  {
   "cell_type": "code",
   "execution_count": 1,
   "id": "47b1554a",
   "metadata": {},
   "outputs": [
    {
     "name": "stdout",
     "output_type": "stream",
     "text": [
      "Enter anything of your choice: 22111122\n",
      "Enter word whose number of occurences is to be checked: 22\n",
      "2\n"
     ]
    }
   ],
   "source": [
    "a=str(input(\"Enter anything of your choice: \"))\n",
    "b=input(\"Enter word whose number of occurences is to be checked: \")\n",
    "x=a.count(b)\n",
    "print(x)"
   ]
  },
  {
   "cell_type": "code",
   "execution_count": 2,
   "id": "7f574b6e",
   "metadata": {},
   "outputs": [
    {
     "name": "stdout",
     "output_type": "stream",
     "text": [
      "Year- 2022\n",
      "Month- 1\n",
      "Day- 1\n",
      "Next Date is: 2/1/2022\n"
     ]
    }
   ],
   "source": [
    "year=int(input(\"Year- \"))\n",
    "month=int(input(\"Month- \"))\n",
    "day=int(input(\"Day- \"))\n",
    "if (month,day,year%4)==(2,28,0):\n",
    "  print(\"Next Date is: \"+str(day+1)+\"/\"+str(month)+\"/\"+str(year))\n",
    "elif (month,day)==(2,28):\n",
    "  print(\"Next Date is: 1/3\"+\"/\"+str(year))\n",
    "elif (month,day)==(12,31):\n",
    "  print(\"Next Date is: 1/1\"+\"/\"+str(year+1))\n",
    "elif (month,day)==(4,30):\n",
    "  print(\"Next Date is: 1\"+\"/\"+str(month+1)+\"/\"+str(year))\n",
    "elif (month,day)==(6,30):\n",
    "  print(\"Next Date is: 1\"+\"/\"+str(month+1)+\"/\"+str(year))\n",
    "elif (month,day)==(9,30):\n",
    "  print(\"Next Date is: 1\"+\"/\"+str(month+1)+\"/\"+str(year))\n",
    "elif (month,day)==(11,30):\n",
    "  print(\"Next Date is: 1\"+\"/\"+str(month+1)+\"/\"+str(year))\n",
    "else:\n",
    "  print(\"Next Date is: \"+str(day+1)+\"/\"+str(month)+\"/\"+str(year))  "
   ]
  },
  {
   "cell_type": "code",
   "execution_count": 3,
   "id": "e41bcd85",
   "metadata": {},
   "outputs": [
    {
     "name": "stdout",
     "output_type": "stream",
     "text": [
      "Enter a: 2\n",
      "Enter b: 3\n",
      "Enter c: 33\n",
      "[(2, 4), (3, 9), (33, 1089)]\n"
     ]
    }
   ],
   "source": [
    "a=int(input(\"Enter a: \"))\n",
    "b=int(input(\"Enter b: \"))\n",
    "c=int(input(\"Enter c: \"))\n",
    "list1=[a,b,c]\n",
    "print([(a,a*a),(b,b*b),(c,c*c)])"
   ]
  },
  {
   "cell_type": "code",
   "execution_count": 4,
   "id": "cad92620",
   "metadata": {},
   "outputs": [
    {
     "name": "stdout",
     "output_type": "stream",
     "text": [
      "ABCDEFGHIJK\n",
      "ABCDEFGHI\n",
      "ABCDEFG\n",
      "ABCDE\n",
      "ABC\n",
      "A\n"
     ]
    }
   ],
   "source": [
    "x=\"ABCDEFGHIJK\"\n",
    "a=x.replace(\"JK\",\"\")\n",
    "b=a.replace(\"HI\",\"\")\n",
    "c=b.replace(\"FG\",\"\")\n",
    "d=c.replace(\"DE\",\"\")\n",
    "e=d.replace(\"BC\",\"\")\n",
    "print(x)\n",
    "print(a)\n",
    "print(b)\n",
    "print(c)\n",
    "print(d)\n",
    "print(e)"
   ]
  },
  {
   "cell_type": "code",
   "execution_count": 5,
   "id": "62414e4a",
   "metadata": {},
   "outputs": [
    {
     "name": "stdout",
     "output_type": "stream",
     "text": [
      "Enter your grade point: 5\n",
      "Your grade is 'C' and Below Average Performance\n"
     ]
    }
   ],
   "source": [
    "x=int(input(\"Enter your grade point: \"))\n",
    "if(x==4):\n",
    "  print(\"Your grade is 'D' and Poor Performance\")\n",
    "elif(x==5):\n",
    "  print(\"Your grade is 'C' and Below Average Performance\")\n",
    "elif(x==6):\n",
    "  print(\"Your grade is 'C+' and Average Performance\")  \n",
    "elif(x==7):\n",
    "  print(\"Your grade is 'B' and Good Performance\")\n",
    "elif(x==8):\n",
    "  print(\"Your grade is 'B+' and Very Good Performance\")\n",
    "elif(x==9):\n",
    "  print(\"Your grade is 'A' and Excellent Performance\")\n",
    "elif(x==10):\n",
    "  print(\"Your grade is 'A+' and Outstanding Performance\")\n",
    "else:\n",
    "  print(\"Error\")     "
   ]
  },
  {
   "cell_type": "code",
   "execution_count": 6,
   "id": "82d67f91",
   "metadata": {},
   "outputs": [
    {
     "name": "stdout",
     "output_type": "stream",
     "text": [
      "{1, 3, 5, 6, 8}\n"
     ]
    }
   ],
   "source": [
    "#Part A\n",
    "set1={1,2,3,4,5}\n",
    "set2={2,4,6,8}\n",
    "set3={1,5,9,13,17}\n",
    "x=set1-set2\n",
    "y=set2-set1\n",
    "newset=set.union(x,y)\n",
    "print(newset)"
   ]
  },
  {
   "cell_type": "code",
   "execution_count": 7,
   "id": "ae2ce4f8",
   "metadata": {},
   "outputs": [
    {
     "name": "stdout",
     "output_type": "stream",
     "text": [
      "{17, 3, 6, 8, 9, 13}\n"
     ]
    }
   ],
   "source": [
    "#Part B\n",
    "set1={1,2,3,4,5}\n",
    "set2={2,4,6,8}\n",
    "set3={1,5,9,13,17}\n",
    "x=set1-set3\n",
    "y=set3-set1\n",
    "z=set.union(x,y)\n",
    "a=z-set2\n",
    "b=set2-z\n",
    "newset=set.union(a,b)\n",
    "print(newset)"
   ]
  },
  {
   "cell_type": "code",
   "execution_count": 8,
   "id": "9857e628",
   "metadata": {},
   "outputs": [
    {
     "name": "stdout",
     "output_type": "stream",
     "text": [
      "{1, 2, 4, 5}\n"
     ]
    }
   ],
   "source": [
    "#Part C\n",
    "set1={1,2,3,4,5}\n",
    "set2={2,4,6,8}\n",
    "set3={1,5,9,13,17}\n",
    "x=set1-set2\n",
    "y=set1-x\n",
    "z=set1-set3\n",
    "a=z-set3\n",
    "b=x-a\n",
    "newset=set.union(b,y)\n",
    "print(newset)"
   ]
  }
 ],
 "metadata": {
  "kernelspec": {
   "display_name": "Python 3 (ipykernel)",
   "language": "python",
   "name": "python3"
  },
  "language_info": {
   "codemirror_mode": {
    "name": "ipython",
    "version": 3
   },
   "file_extension": ".py",
   "mimetype": "text/x-python",
   "name": "python",
   "nbconvert_exporter": "python",
   "pygments_lexer": "ipython3",
   "version": "3.9.7"
  }
 },
 "nbformat": 4,
 "nbformat_minor": 5
}
